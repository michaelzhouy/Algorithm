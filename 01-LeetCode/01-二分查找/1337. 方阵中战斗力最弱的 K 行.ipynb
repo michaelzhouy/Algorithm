{
 "cells": [
  {
   "cell_type": "markdown",
   "metadata": {},
   "source": [
    "## 方法1：二分查找\n",
    "### 解题思路\n",
    "对每一行：\n",
    "1. 判断是不是全1，全1的话，right=right+1\n",
    "2. 接着，判断是不是全0，全0的话，right=0\n",
    "3. 最后，二分查找\n",
    "\n",
    "### 代码\n",
    "\n",
    "```python3\n",
    "class Solution:\n",
    "    def kWeakestRows(self, mat: List[List[int]], k: int) -> List[int]:\n",
    "        res = []\n",
    "        for i, row in enumerate(mat):\n",
    "            left, right = 0, len(row) - 1\n",
    "            if row[right] == 1:\n",
    "                right = right + 1\n",
    "            elif row[left] == 0:\n",
    "                right = 0\n",
    "            else:\n",
    "                while left < right:\n",
    "                    mid = (left + right) // 2\n",
    "                    if row[mid] == 1:\n",
    "                        left = mid + 1\n",
    "                    else:\n",
    "                        right = mid\n",
    "            res.append((i, right))\n",
    "        print(res)\n",
    "        res.sort(key=lambda x: (x[1], x[0]))\n",
    "        return [i[0] for i in res[:k]] \n",
    "```\n",
    "\n",
    "## 方法2：对每一行求和\n",
    "### 解题思路\n",
    "对每一行：用sum求和\n",
    "\n",
    "### 代码\n",
    "\n",
    "```python3\n",
    "class Solution:\n",
    "    def kWeakestRows(self, mat: List[List[int]], k: int) -> List[int]:\n",
    "        res = [(i, sum(row)) for i, row in enumerate(mat)]\n",
    "        print(res)\n",
    "        res.sort(key=lambda x: (x[1], x[0]))\n",
    "        return [i[0] for i in res[:k]] ] \n",
    "```"
   ]
  }
 ],
 "metadata": {
  "kernelspec": {
   "display_name": "Python 3",
   "language": "python",
   "name": "python3"
  },
  "language_info": {
   "codemirror_mode": {
    "name": "ipython",
    "version": 3
   },
   "file_extension": ".py",
   "mimetype": "text/x-python",
   "name": "python",
   "nbconvert_exporter": "python",
   "pygments_lexer": "ipython3",
   "version": "3.7.3"
  },
  "toc": {
   "base_numbering": 1,
   "nav_menu": {},
   "number_sections": true,
   "sideBar": true,
   "skip_h1_title": false,
   "title_cell": "Table of Contents",
   "title_sidebar": "Contents",
   "toc_cell": false,
   "toc_position": {},
   "toc_section_display": true,
   "toc_window_display": false
  },
  "varInspector": {
   "cols": {
    "lenName": 16,
    "lenType": 16,
    "lenVar": 40
   },
   "kernels_config": {
    "python": {
     "delete_cmd_postfix": "",
     "delete_cmd_prefix": "del ",
     "library": "var_list.py",
     "varRefreshCmd": "print(var_dic_list())"
    },
    "r": {
     "delete_cmd_postfix": ") ",
     "delete_cmd_prefix": "rm(",
     "library": "var_list.r",
     "varRefreshCmd": "cat(var_dic_list()) "
    }
   },
   "types_to_exclude": [
    "module",
    "function",
    "builtin_function_or_method",
    "instance",
    "_Feature"
   ],
   "window_display": false
  }
 },
 "nbformat": 4,
 "nbformat_minor": 2
}
