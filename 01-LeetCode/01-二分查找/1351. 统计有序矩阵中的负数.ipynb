{
 "cells": [
  {
   "cell_type": "markdown",
   "metadata": {},
   "source": [
    "## 方法1 二分查找\n",
    "\n",
    "### 解题思路\n",
    "对每一行进行遍历，接着对每一行进行二分查找\n",
    "\n",
    "### 代码\n",
    "\n",
    "```python3\n",
    "class Solution:\n",
    "    def countNegatives(self, grid: List[List[int]]) -> int:\n",
    "        pos_cnt = 0\n",
    "\n",
    "        for i in grid:\n",
    "            left, right = 0, len(i) - 1            \n",
    "            while left < right:\n",
    "                mid = (left + right) // 2\n",
    "                if i[mid] >= 0:\n",
    "                    left = mid + 1\n",
    "                else:\n",
    "                    right = mid\n",
    "            if i[left] < 0:\n",
    "                pos_cnt += len(i) - left\n",
    "        return pos_cnt\n",
    "```\n",
    "\n",
    "## 方法2 暴力法\n",
    "\n",
    "### 解题思路\n",
    "暴力遍历\n",
    "\n",
    "### 代码\n",
    "\n",
    "```python3\n",
    "class Solution:\n",
    "    def countNegatives(self, grid: List[List[int]]) -> int:\n",
    "        pos_cnt = 0\n",
    "        for i in grid:\n",
    "            for j in i:\n",
    "                if j < 0:\n",
    "                    pos_cnt += 1\n",
    "        return pos_cnt\n",
    "```"
   ]
  }
 ],
 "metadata": {
  "kernelspec": {
   "display_name": "Python 3",
   "language": "python",
   "name": "python3"
  },
  "language_info": {
   "codemirror_mode": {
    "name": "ipython",
    "version": 3
   },
   "file_extension": ".py",
   "mimetype": "text/x-python",
   "name": "python",
   "nbconvert_exporter": "python",
   "pygments_lexer": "ipython3",
   "version": "3.7.3"
  },
  "toc": {
   "base_numbering": 1,
   "nav_menu": {},
   "number_sections": true,
   "sideBar": true,
   "skip_h1_title": false,
   "title_cell": "Table of Contents",
   "title_sidebar": "Contents",
   "toc_cell": false,
   "toc_position": {},
   "toc_section_display": true,
   "toc_window_display": false
  },
  "varInspector": {
   "cols": {
    "lenName": 16,
    "lenType": 16,
    "lenVar": 40
   },
   "kernels_config": {
    "python": {
     "delete_cmd_postfix": "",
     "delete_cmd_prefix": "del ",
     "library": "var_list.py",
     "varRefreshCmd": "print(var_dic_list())"
    },
    "r": {
     "delete_cmd_postfix": ") ",
     "delete_cmd_prefix": "rm(",
     "library": "var_list.r",
     "varRefreshCmd": "cat(var_dic_list()) "
    }
   },
   "types_to_exclude": [
    "module",
    "function",
    "builtin_function_or_method",
    "instance",
    "_Feature"
   ],
   "window_display": false
  }
 },
 "nbformat": 4,
 "nbformat_minor": 2
}
