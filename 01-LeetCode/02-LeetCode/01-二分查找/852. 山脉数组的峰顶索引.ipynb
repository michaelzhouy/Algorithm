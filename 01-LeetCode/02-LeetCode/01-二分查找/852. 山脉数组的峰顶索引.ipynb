{
 "cells": [
  {
   "cell_type": "markdown",
   "metadata": {},
   "source": [
    "## 方法1：遍历，复杂度为O(n)\n",
    "### 解题思路\n",
    "遍历列表A，如果A[i] > A[i + 1]，返回i\n",
    "\n",
    "### 代码\n",
    "\n",
    "```python3\n",
    "class Solution:\n",
    "    def peakIndexInMountainArray(self, A):\n",
    "        for i in range(len(A) - 1):\n",
    "            if A[i] > A[i + 1]:\n",
    "                return i\n",
    "```\n",
    "\n",
    "## 方法2：二分查找，复杂度为O(log n)\n",
    "\n",
    "### 解题思路\n",
    "二分查找\n",
    "\n",
    "### 代码\n",
    "\n",
    "```\n",
    "class Solution:\n",
    "    def peakIndexInMountainArray(self, A):\n",
    "        low, high = 0, len(A) - 1\n",
    "        while low < high:\n",
    "            mid = (low + high) // 2\n",
    "            if A[mid] < A[mid + 1]:\n",
    "                low = mid + 1\n",
    "            else:\n",
    "                high = mid\n",
    "        return low\n",
    "```"
   ]
  },
  {
   "cell_type": "code",
   "execution_count": null,
   "metadata": {},
   "outputs": [],
   "source": []
  }
 ],
 "metadata": {
  "kernelspec": {
   "display_name": "Python 3",
   "language": "python",
   "name": "python3"
  },
  "language_info": {
   "codemirror_mode": {
    "name": "ipython",
    "version": 3
   },
   "file_extension": ".py",
   "mimetype": "text/x-python",
   "name": "python",
   "nbconvert_exporter": "python",
   "pygments_lexer": "ipython3",
   "version": "3.7.3"
  },
  "toc": {
   "base_numbering": 1,
   "nav_menu": {},
   "number_sections": true,
   "sideBar": true,
   "skip_h1_title": false,
   "title_cell": "Table of Contents",
   "title_sidebar": "Contents",
   "toc_cell": false,
   "toc_position": {},
   "toc_section_display": true,
   "toc_window_display": false
  },
  "varInspector": {
   "cols": {
    "lenName": 16,
    "lenType": 16,
    "lenVar": 40
   },
   "kernels_config": {
    "python": {
     "delete_cmd_postfix": "",
     "delete_cmd_prefix": "del ",
     "library": "var_list.py",
     "varRefreshCmd": "print(var_dic_list())"
    },
    "r": {
     "delete_cmd_postfix": ") ",
     "delete_cmd_prefix": "rm(",
     "library": "var_list.r",
     "varRefreshCmd": "cat(var_dic_list()) "
    }
   },
   "types_to_exclude": [
    "module",
    "function",
    "builtin_function_or_method",
    "instance",
    "_Feature"
   ],
   "window_display": false
  }
 },
 "nbformat": 4,
 "nbformat_minor": 2
}
