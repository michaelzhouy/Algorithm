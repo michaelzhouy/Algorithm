{
 "cells": [
  {
   "cell_type": "markdown",
   "metadata": {},
   "source": [
    "最短路径问题\n",
    "\n",
    "解决最短路径问题的算法被称为广度优先搜索\n",
    "\n",
    "广度优先搜索是一种用于图的查找算法，帮助解决两类问题：\n",
    "- 第一类：从节点A出发，有前往节点B的路径吗？\n",
    "- 第二类：从节点A出发，前往节点B的哪条路径最短\n",
    "\n",
    "队列：\n",
    "1. 只支持两种操作：**入队**和**出队**\n",
    "2. 队列是一种先进先出的数据结构，栈是一种后见先出的数据结构\n",
    "\n",
    "有向图和无向图：\n",
    "- 有向图：箭头是单向的，A是B的邻居，但B不是A的邻居\n",
    "- 无向图：没有箭头，直接相连的节点互为邻居"
   ]
  },
  {
   "cell_type": "code",
   "execution_count": 1,
   "metadata": {
    "ExecuteTime": {
     "end_time": "2020-05-26T14:20:05.254045Z",
     "start_time": "2020-05-26T14:20:05.244051Z"
    }
   },
   "outputs": [],
   "source": [
    "graph = {}\n",
    "graph['you'] = ['alice', 'bob', 'claire']\n",
    "graph['bob'] = ['anuj', 'peggy']\n",
    "graph['alice'] = ['peggy']\n",
    "graph['claire'] = ['thom', 'jonny']\n",
    "graph['anuj'] = []\n",
    "graph['peggy'] = []\n",
    "graph['thom'] = []\n",
    "graph['jonny'] = []"
   ]
  },
  {
   "cell_type": "code",
   "execution_count": 2,
   "metadata": {
    "ExecuteTime": {
     "end_time": "2020-05-26T14:20:05.263039Z",
     "start_time": "2020-05-26T14:20:05.258044Z"
    }
   },
   "outputs": [],
   "source": [
    "from collections import deque"
   ]
  },
  {
   "cell_type": "code",
   "execution_count": 3,
   "metadata": {
    "ExecuteTime": {
     "end_time": "2020-05-26T14:20:05.272035Z",
     "start_time": "2020-05-26T14:20:05.267039Z"
    }
   },
   "outputs": [],
   "source": [
    "def person_is_seller(name):\n",
    "    return name[-1] == 'm'"
   ]
  },
  {
   "cell_type": "code",
   "execution_count": 4,
   "metadata": {
    "ExecuteTime": {
     "end_time": "2020-05-26T14:20:05.280031Z",
     "start_time": "2020-05-26T14:20:05.276033Z"
    }
   },
   "outputs": [],
   "source": [
    "# while seach_queue:  # 只要队列不为空\n",
    "#     person = seach_queue.popleft()  # 取出其中的第一个人\n",
    "#     # 检查这个人是不是芒果销售商\n",
    "#     if person_is_seller(person):\n",
    "#         # 是芒果销售商\n",
    "#         print(person + 'is a mango seller!')\n",
    "#         return True\n",
    "#     # 不是芒果销售商，将这个人的朋友都加入搜索队列\n",
    "#     else:\n",
    "#         seach_queue += graph[person]\n",
    "#     return False"
   ]
  },
  {
   "cell_type": "code",
   "execution_count": 5,
   "metadata": {
    "ExecuteTime": {
     "end_time": "2020-05-26T14:20:05.295021Z",
     "start_time": "2020-05-26T14:20:05.284027Z"
    }
   },
   "outputs": [],
   "source": [
    "def search(name):\n",
    "    seach_queue = deque()\n",
    "    seach_queue += graph[name]\n",
    "    # 该数组用于记录检查过的人\n",
    "    seached = []\n",
    "    while seach_queue:\n",
    "        person = seach_queue.popleft()\n",
    "        if person not in seached:\n",
    "            if person_is_seller(person):\n",
    "                print(person + ' is a mongo seller!')\n",
    "                return True\n",
    "            else:\n",
    "                seach_queue += graph[person]\n",
    "                seached.append(person)  # 将这个人标记为检查过\n",
    "    return False"
   ]
  },
  {
   "cell_type": "code",
   "execution_count": 6,
   "metadata": {
    "ExecuteTime": {
     "end_time": "2020-05-26T14:20:05.315010Z",
     "start_time": "2020-05-26T14:20:05.298021Z"
    }
   },
   "outputs": [
    {
     "name": "stdout",
     "output_type": "stream",
     "text": [
      "thom is a mongo seller!\n"
     ]
    },
    {
     "data": {
      "text/plain": [
       "True"
      ]
     },
     "execution_count": 6,
     "metadata": {},
     "output_type": "execute_result"
    }
   ],
   "source": [
    "search('you')"
   ]
  },
  {
   "cell_type": "markdown",
   "metadata": {},
   "source": [
    "**小结**\n",
    "\n",
    "1. 广度优先搜索指出是否有从A到B的路径。如果有，广度优先搜索将找出最短路径。\n",
    "\n",
    "2. 面临类似于寻找最短路径的问题时，可尝试使用图来建立模型，再使用广度优先搜索来解决问题。\n",
    "\n",
    "3. 有向图中的边为箭头，箭头的方向指定了关系的方向，例如，rama→adit表示rama欠adit钱。\n",
    "\n",
    "4. 无向图中的边不带箭头，其中的关系是双向的，例如，ross - rachel表示“ross与rachel约会，而rachel也与ross约会”。\n",
    "\n",
    "5. 队列是先进先出（FIFO）的。\n",
    "\n",
    "6. 栈是后进先出（LIFO）的。\n",
    "\n",
    "7. 你需要按加入顺序检查搜索列表中的人，否则找到的就不是最短路径，因此搜索列表必须是队列。\n",
    "\n",
    "8. 对于检查过的人，务必不要再去检查，否则可能导致无限循环。"
   ]
  }
 ],
 "metadata": {
  "kernelspec": {
   "display_name": "Python 3",
   "language": "python",
   "name": "python3"
  },
  "language_info": {
   "codemirror_mode": {
    "name": "ipython",
    "version": 3
   },
   "file_extension": ".py",
   "mimetype": "text/x-python",
   "name": "python",
   "nbconvert_exporter": "python",
   "pygments_lexer": "ipython3",
   "version": "3.7.3"
  },
  "toc": {
   "base_numbering": 1,
   "nav_menu": {},
   "number_sections": true,
   "sideBar": true,
   "skip_h1_title": false,
   "title_cell": "Table of Contents",
   "title_sidebar": "Contents",
   "toc_cell": false,
   "toc_position": {},
   "toc_section_display": true,
   "toc_window_display": false
  },
  "varInspector": {
   "cols": {
    "lenName": 16,
    "lenType": 16,
    "lenVar": 40
   },
   "kernels_config": {
    "python": {
     "delete_cmd_postfix": "",
     "delete_cmd_prefix": "del ",
     "library": "var_list.py",
     "varRefreshCmd": "print(var_dic_list())"
    },
    "r": {
     "delete_cmd_postfix": ") ",
     "delete_cmd_prefix": "rm(",
     "library": "var_list.r",
     "varRefreshCmd": "cat(var_dic_list()) "
    }
   },
   "types_to_exclude": [
    "module",
    "function",
    "builtin_function_or_method",
    "instance",
    "_Feature"
   ],
   "window_display": false
  }
 },
 "nbformat": 4,
 "nbformat_minor": 2
}
