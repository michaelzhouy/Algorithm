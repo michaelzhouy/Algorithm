{
 "cells": [
  {
   "cell_type": "markdown",
   "metadata": {},
   "source": [
    "## 方法1：直接取交集\n",
    "### 解题思路\n",
    "\n",
    "对两个数组用set去重，然后取交集\n",
    "\n",
    "### 代码\n",
    "```\n",
    "class Solution:\n",
    "    def intersection(self, nums1: List[int], nums2: List[int]) -> List[int]:\n",
    "        return list(set(nums1) & set(nums2))\n",
    "```"
   ]
  },
  {
   "cell_type": "code",
   "execution_count": 1,
   "metadata": {
    "ExecuteTime": {
     "end_time": "2020-05-24T03:56:04.597189Z",
     "start_time": "2020-05-24T03:56:04.588195Z"
    }
   },
   "outputs": [
    {
     "name": "stdout",
     "output_type": "stream",
     "text": [
      "[1, 2]\n"
     ]
    }
   ],
   "source": [
    "class Solution:\n",
    "    def intersection(self, nums1, nums2):\n",
    "        return list(set(nums1) & set(nums2))\n",
    "    \n",
    "if __name__==\"__main__\":\n",
    "    s = Solution()\n",
    "    print(s.intersection([2, 2, 1], [1, 2, 3]))"
   ]
  },
  {
   "cell_type": "markdown",
   "metadata": {},
   "source": [
    "## 方法2：\n",
    "### 解题思路\n",
    "在较小的集合中遍历，判断各个元素是否在较大的集合中\n",
    "\n",
    "### 代码\n",
    "\n",
    "```python3\n",
    "class Solution:\n",
    "    def set_intersection(self, set1, set2):\n",
    "        return [i for i in set1 if i in set2]\n",
    "    \n",
    "    def intersection(self, nums1: List[int], nums2: List[int]) -> List[int]:\n",
    "        set1 = set(nums1)\n",
    "        set2 = set(nums2)\n",
    "        if len(set1) < len(set2):\n",
    "            return self.set_intersection(set1, set2)\n",
    "        else:\n",
    "            return self.set_intersection(set2, set1)\n",
    "```"
   ]
  },
  {
   "cell_type": "markdown",
   "metadata": {},
   "source": [
    "## 方法3：通过字典过滤\n",
    "### 解题思路\n",
    "1. 先将nums1中的元素依次放入字典中去，字典的值设置为True\n",
    "2. 依次遍历nums2中的元素，如果在字典中能够找到，则将元素添加到d列表中，并且改变字典值为False，下次不让重复的元素进入if，防止append添加\n",
    "\n",
    "\n",
    "### 代码\n",
    "```\n",
    "class Solution:\n",
    "    def intersection(self, nums1: List[int], nums2: List[int]) -> List[int]:\n",
    "        d = {}\n",
    "        a = []\n",
    "        for i in nums2:\n",
    "            d[i] = True\n",
    "        for j in nums1:\n",
    "            if d.get(j):\n",
    "                a.append(j)\n",
    "                d[j] = False\n",
    "        return a\n",
    "```"
   ]
  },
  {
   "cell_type": "code",
   "execution_count": 2,
   "metadata": {
    "ExecuteTime": {
     "end_time": "2020-05-24T03:56:04.628171Z",
     "start_time": "2020-05-24T03:56:04.619176Z"
    }
   },
   "outputs": [
    {
     "name": "stdout",
     "output_type": "stream",
     "text": [
      "[2, 1]\n"
     ]
    }
   ],
   "source": [
    "class Solution:\n",
    "    def intersection(self, nums1, nums2):\n",
    "        d = {}\n",
    "        a = []\n",
    "        for i in nums2:\n",
    "            d[i] = True\n",
    "        for j in nums1:\n",
    "            if d.get(j):\n",
    "                a.append(j)\n",
    "                d[j] = False\n",
    "        return a\n",
    "\n",
    "if __name__==\"__main__\":\n",
    "    s = Solution()\n",
    "    print(s.intersection([2, 2, 1], [1, 2, 3]))"
   ]
  }
 ],
 "metadata": {
  "kernelspec": {
   "display_name": "Python 3",
   "language": "python",
   "name": "python3"
  },
  "language_info": {
   "codemirror_mode": {
    "name": "ipython",
    "version": 3
   },
   "file_extension": ".py",
   "mimetype": "text/x-python",
   "name": "python",
   "nbconvert_exporter": "python",
   "pygments_lexer": "ipython3",
   "version": "3.7.3"
  },
  "toc": {
   "base_numbering": 1,
   "nav_menu": {},
   "number_sections": true,
   "sideBar": true,
   "skip_h1_title": false,
   "title_cell": "Table of Contents",
   "title_sidebar": "Contents",
   "toc_cell": false,
   "toc_position": {},
   "toc_section_display": true,
   "toc_window_display": false
  },
  "varInspector": {
   "cols": {
    "lenName": 16,
    "lenType": 16,
    "lenVar": 40
   },
   "kernels_config": {
    "python": {
     "delete_cmd_postfix": "",
     "delete_cmd_prefix": "del ",
     "library": "var_list.py",
     "varRefreshCmd": "print(var_dic_list())"
    },
    "r": {
     "delete_cmd_postfix": ") ",
     "delete_cmd_prefix": "rm(",
     "library": "var_list.r",
     "varRefreshCmd": "cat(var_dic_list()) "
    }
   },
   "types_to_exclude": [
    "module",
    "function",
    "builtin_function_or_method",
    "instance",
    "_Feature"
   ],
   "window_display": false
  }
 },
 "nbformat": 4,
 "nbformat_minor": 2
}
