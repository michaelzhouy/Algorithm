{
 "cells": [
  {
   "cell_type": "markdown",
   "metadata": {},
   "source": [
    "统计一个数字在排序数组中出现的次数。\n",
    "\n",
    "\n",
    "示例 1:\n",
    "\n",
    "输入: nums = [5,7,7,8,8,10], target = 8\n",
    "\n",
    "输出: 2\n",
    "\n",
    "示例 2:\n",
    "\n",
    "输入: nums = [5,7,7,8,8,10], target = 6\n",
    "\n",
    "输出: 0"
   ]
  },
  {
   "cell_type": "markdown",
   "metadata": {},
   "source": [
    "### 解题思路\n",
    "二分查找+双指针\n",
    "1. 二分查找：找到左右两个分界点\n",
    "2. 双指针：左移右移\n",
    "\n",
    "### 代码\n",
    "\n",
    "```python3\n",
    "class Solution:\n",
    "    def search(self, nums: List[int], target: int) -> int:\n",
    "        left, right = 0, len(nums) - 1\n",
    "        # 二分查找\n",
    "        while left <= right:\n",
    "            mid = (left + right) // 2\n",
    "            if nums[mid] < target:\n",
    "                left = mid + 1\n",
    "            elif nums[mid] > target:\n",
    "                right = mid - 1\n",
    "            elif nums[mid] == target:\n",
    "                break\n",
    "            else:\n",
    "                return 0\n",
    "        # print(nums[left], nums[right])\n",
    "        # 双指针\n",
    "        while left <= right:\n",
    "            if nums[left] < target:\n",
    "                left += 1\n",
    "            elif nums[right] > target:\n",
    "                right -= 1\n",
    "            elif nums[left] == target and nums[right] == target:\n",
    "                return right - left + 1\n",
    "            else:\n",
    "                break\n",
    "        return 0\n",
    "```"
   ]
  }
 ],
 "metadata": {
  "kernelspec": {
   "display_name": "Python 3",
   "language": "python",
   "name": "python3"
  },
  "language_info": {
   "codemirror_mode": {
    "name": "ipython",
    "version": 3
   },
   "file_extension": ".py",
   "mimetype": "text/x-python",
   "name": "python",
   "nbconvert_exporter": "python",
   "pygments_lexer": "ipython3",
   "version": "3.7.3"
  },
  "toc": {
   "base_numbering": 1,
   "nav_menu": {},
   "number_sections": true,
   "sideBar": true,
   "skip_h1_title": false,
   "title_cell": "Table of Contents",
   "title_sidebar": "Contents",
   "toc_cell": false,
   "toc_position": {},
   "toc_section_display": true,
   "toc_window_display": false
  },
  "varInspector": {
   "cols": {
    "lenName": 16,
    "lenType": 16,
    "lenVar": 40
   },
   "kernels_config": {
    "python": {
     "delete_cmd_postfix": "",
     "delete_cmd_prefix": "del ",
     "library": "var_list.py",
     "varRefreshCmd": "print(var_dic_list())"
    },
    "r": {
     "delete_cmd_postfix": ") ",
     "delete_cmd_prefix": "rm(",
     "library": "var_list.r",
     "varRefreshCmd": "cat(var_dic_list()) "
    }
   },
   "types_to_exclude": [
    "module",
    "function",
    "builtin_function_or_method",
    "instance",
    "_Feature"
   ],
   "window_display": false
  }
 },
 "nbformat": 4,
 "nbformat_minor": 2
}
