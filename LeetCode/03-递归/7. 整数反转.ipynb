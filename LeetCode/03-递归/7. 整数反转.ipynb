{
 "cells": [
  {
   "cell_type": "markdown",
   "metadata": {},
   "source": [
    "## 方法1：对整数求余，求整\n",
    "\n",
    "### 解题思路\n",
    "见代码批注\n",
    "\n",
    "### 代码\n",
    "\n",
    "```python3\n",
    "class Solution(object):\n",
    "    def reverse(self, x):\n",
    "        # ans用于最后的结果返回\n",
    "        ans = 0\n",
    "        # flag用于最后的正负值处理\n",
    "        flag = 1\n",
    "        \n",
    "        # 如果为负值，变换为正数\n",
    "        if x < 0:\n",
    "            x = -x;\n",
    "            flag = -flag\n",
    "\n",
    "        while x != 0:\n",
    "            # divmod()函数返回整数部分和余数部分\n",
    "            x, cur = divmod(x, 10)\n",
    "            ans = ans * 10 + cur\n",
    "        return ans * flag if -2 ** 31 < ans * flag < 2** 31 else 0\n",
    "```"
   ]
  },
  {
   "cell_type": "code",
   "execution_count": null,
   "metadata": {},
   "outputs": [],
   "source": []
  }
 ],
 "metadata": {
  "kernelspec": {
   "display_name": "Python 3",
   "language": "python",
   "name": "python3"
  },
  "language_info": {
   "codemirror_mode": {
    "name": "ipython",
    "version": 3
   },
   "file_extension": ".py",
   "mimetype": "text/x-python",
   "name": "python",
   "nbconvert_exporter": "python",
   "pygments_lexer": "ipython3",
   "version": "3.7.3"
  },
  "toc": {
   "base_numbering": 1,
   "nav_menu": {},
   "number_sections": true,
   "sideBar": true,
   "skip_h1_title": false,
   "title_cell": "Table of Contents",
   "title_sidebar": "Contents",
   "toc_cell": false,
   "toc_position": {},
   "toc_section_display": true,
   "toc_window_display": false
  },
  "varInspector": {
   "cols": {
    "lenName": 16,
    "lenType": 16,
    "lenVar": 40
   },
   "kernels_config": {
    "python": {
     "delete_cmd_postfix": "",
     "delete_cmd_prefix": "del ",
     "library": "var_list.py",
     "varRefreshCmd": "print(var_dic_list())"
    },
    "r": {
     "delete_cmd_postfix": ") ",
     "delete_cmd_prefix": "rm(",
     "library": "var_list.r",
     "varRefreshCmd": "cat(var_dic_list()) "
    }
   },
   "types_to_exclude": [
    "module",
    "function",
    "builtin_function_or_method",
    "instance",
    "_Feature"
   ],
   "window_display": false
  }
 },
 "nbformat": 4,
 "nbformat_minor": 2
}
