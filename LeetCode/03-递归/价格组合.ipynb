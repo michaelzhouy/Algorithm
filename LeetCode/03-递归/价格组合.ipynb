{
 "cells": [
  {
   "cell_type": "code",
   "execution_count": 1,
   "metadata": {
    "ExecuteTime": {
     "end_time": "2020-06-15T03:01:55.550806Z",
     "start_time": "2020-06-15T03:01:55.545799Z"
    }
   },
   "outputs": [],
   "source": [
    "def find_bills(bills, target, solution=[]):\n",
    "    # 如果总金额等于target就打印solution，退出\n",
    "    if sum(solution) == target:\n",
    "        print('Solution: ', solution)\n",
    "        return\n",
    "    \n",
    "    # 如果总金额大于target就退出\n",
    "    if sum(solution) > target:\n",
    "        return\n",
    "    \n",
    "    # 遍历元素\n",
    "    for bill in bills:\n",
    "        ways = solution[:]\n",
    "        ways.append(bill)\n",
    "        find_bills(bills, target, ways)"
   ]
  },
  {
   "cell_type": "code",
   "execution_count": 2,
   "metadata": {
    "ExecuteTime": {
     "end_time": "2020-06-15T03:01:55.570766Z",
     "start_time": "2020-06-15T03:01:55.552775Z"
    }
   },
   "outputs": [
    {
     "name": "stdout",
     "output_type": "stream",
     "text": [
      "Solution:  [1, 1, 1, 1, 1, 1]\n",
      "Solution:  [1, 1, 1, 1, 2]\n",
      "Solution:  [1, 1, 1, 2, 1]\n",
      "Solution:  [1, 1, 2, 1, 1]\n",
      "Solution:  [1, 1, 2, 2]\n",
      "Solution:  [1, 2, 1, 1, 1]\n",
      "Solution:  [1, 2, 1, 2]\n",
      "Solution:  [1, 2, 2, 1]\n",
      "Solution:  [1, 5]\n",
      "Solution:  [2, 1, 1, 1, 1]\n",
      "Solution:  [2, 1, 1, 2]\n",
      "Solution:  [2, 1, 2, 1]\n",
      "Solution:  [2, 2, 1, 1]\n",
      "Solution:  [2, 2, 2]\n",
      "Solution:  [5, 1]\n"
     ]
    }
   ],
   "source": [
    "find_bills([1, 2, 5], 6)"
   ]
  },
  {
   "cell_type": "code",
   "execution_count": 3,
   "metadata": {
    "ExecuteTime": {
     "end_time": "2020-06-15T03:01:55.580740Z",
     "start_time": "2020-06-15T03:01:55.572761Z"
    }
   },
   "outputs": [
    {
     "name": "stdout",
     "output_type": "stream",
     "text": [
      "Solution:  [1, 1, 1, 1, 1, 1]\n",
      "Solution:  [1, 1, 1, 1, 2]\n",
      "Solution:  [1, 1, 2, 2]\n",
      "Solution:  [1, 5]\n",
      "Solution:  [2, 2, 2]\n"
     ]
    }
   ],
   "source": [
    "def find_bills(bills, target, bigger, solution=[]):\n",
    "    # 如果总金额等于target就打印solution，退出\n",
    "    if sum(solution) == target:\n",
    "        print('Solution: ', solution)\n",
    "        return\n",
    "    \n",
    "    # 如果总金额大于target就退出\n",
    "    if sum(solution) > target:\n",
    "        return\n",
    "    \n",
    "    # 遍历元素\n",
    "    for bill in bills:\n",
    "        if bill < bigger:\n",
    "            continue\n",
    "        ways = solution[:]\n",
    "        ways.append(bill)\n",
    "        find_bills(bills, target, bill, ways)\n",
    "    \n",
    "find_bills([1, 2, 5], 6, 1)"
   ]
  },
  {
   "cell_type": "code",
   "execution_count": 4,
   "metadata": {
    "ExecuteTime": {
     "end_time": "2020-06-15T03:01:55.589715Z",
     "start_time": "2020-06-15T03:01:55.581740Z"
    }
   },
   "outputs": [
    {
     "name": "stdout",
     "output_type": "stream",
     "text": [
      "Solution:  [1, 1, 1, 1, 1, 1]\n",
      "Solution:  [1, 1, 1, 1, 2]\n",
      "Solution:  [1, 1, 2, 2]\n",
      "Solution:  [1, 5]\n",
      "Solution:  [2, 2, 2]\n"
     ]
    }
   ],
   "source": [
    "out = []\n",
    "def find_bills(bills, target, bigger, solution=[]):\n",
    "    # 如果总金额等于target就打印solution，退出\n",
    "    if sum(solution) == target:\n",
    "        print('Solution: ', solution)\n",
    "        out.append(solution)\n",
    "        return\n",
    "    \n",
    "    # 如果总金额大于target就退出\n",
    "    if sum(solution) > target:\n",
    "        return\n",
    "    \n",
    "    # 遍历元素\n",
    "    for bill in bills:\n",
    "        if bill < bigger:\n",
    "            continue\n",
    "        ways = solution[:]\n",
    "        ways.append(bill)\n",
    "        find_bills(bills, target, bill, ways)\n",
    "    \n",
    "find_bills([1, 2, 5], 6, 1)"
   ]
  },
  {
   "cell_type": "code",
   "execution_count": 5,
   "metadata": {
    "ExecuteTime": {
     "end_time": "2020-06-15T03:01:55.595700Z",
     "start_time": "2020-06-15T03:01:55.590712Z"
    }
   },
   "outputs": [
    {
     "name": "stdout",
     "output_type": "stream",
     "text": [
      "[[1, 1, 1, 1, 1, 1], [1, 1, 1, 1, 2], [1, 1, 2, 2], [1, 5], [2, 2, 2]]\n"
     ]
    }
   ],
   "source": [
    "print(out)"
   ]
  },
  {
   "cell_type": "code",
   "execution_count": 6,
   "metadata": {
    "ExecuteTime": {
     "end_time": "2020-06-15T03:01:55.606706Z",
     "start_time": "2020-06-15T03:01:55.598693Z"
    }
   },
   "outputs": [
    {
     "name": "stdout",
     "output_type": "stream",
     "text": [
      "Solution:  [1, 1, 1, 1, 1, 1]\n",
      "Solution:  [1, 1, 1, 1, 2]\n",
      "Solution:  [1, 1, 2, 2]\n",
      "Solution:  [1, 5]\n",
      "Solution:  [2, 2, 2]\n",
      "[[1, 1, 1, 1, 1, 1], [1, 1, 1, 1, 2], [1, 1, 2, 2], [1, 5], [2, 2, 2]]\n"
     ]
    }
   ],
   "source": [
    "def find_bills(bills, target, bigger, solution=[]):\n",
    "    # 如果总金额等于target就打印solution，退出\n",
    "    if sum(solution) == target:\n",
    "        print('Solution: ', solution)\n",
    "        yield solution\n",
    "        return\n",
    "    \n",
    "    # 如果总金额大于target就退出\n",
    "    if sum(solution) > target:\n",
    "        return\n",
    "    \n",
    "    # 遍历元素\n",
    "    for bill in bills:\n",
    "        if bill < bigger:\n",
    "            continue\n",
    "        ways = solution[:]\n",
    "        ways.append(bill)\n",
    "        yield from find_bills(bills, target, bill, ways)\n",
    "    \n",
    "print(list(find_bills([1, 2, 5], 6, 1)))"
   ]
  },
  {
   "cell_type": "code",
   "execution_count": 7,
   "metadata": {
    "ExecuteTime": {
     "end_time": "2020-06-15T03:01:55.615651Z",
     "start_time": "2020-06-15T03:01:55.608665Z"
    }
   },
   "outputs": [
    {
     "name": "stdout",
     "output_type": "stream",
     "text": [
      "Solution:  [1, 1, 1, 1, 1, 1]\n",
      "Solution:  [1, 1, 1, 1, 2]\n",
      "Solution:  [1, 1, 2, 2]\n",
      "Solution:  [1, 5]\n",
      "Solution:  [2, 2, 2]\n",
      "[[1, 1, 1, 1, 1, 1], [1, 1, 1, 1, 2], [1, 1, 2, 2], [1, 5], [2, 2, 2]]\n"
     ]
    }
   ],
   "source": [
    "solutions = list(find_bills([1, 2, 5], 6, 1))\n",
    "print(solutions)"
   ]
  },
  {
   "cell_type": "code",
   "execution_count": 8,
   "metadata": {
    "ExecuteTime": {
     "end_time": "2020-06-15T03:01:55.622665Z",
     "start_time": "2020-06-15T03:01:55.618640Z"
    }
   },
   "outputs": [
    {
     "name": "stdout",
     "output_type": "stream",
     "text": [
      "least way [1, 5]\n"
     ]
    }
   ],
   "source": [
    "least_way = sorted(solutions, key=lambda x: len(x))[0]\n",
    "print('least way', least_way)"
   ]
  }
 ],
 "metadata": {
  "kernelspec": {
   "display_name": "Python 3",
   "language": "python",
   "name": "python3"
  },
  "language_info": {
   "codemirror_mode": {
    "name": "ipython",
    "version": 3
   },
   "file_extension": ".py",
   "mimetype": "text/x-python",
   "name": "python",
   "nbconvert_exporter": "python",
   "pygments_lexer": "ipython3",
   "version": "3.7.3"
  },
  "toc": {
   "base_numbering": 1,
   "nav_menu": {},
   "number_sections": true,
   "sideBar": true,
   "skip_h1_title": false,
   "title_cell": "Table of Contents",
   "title_sidebar": "Contents",
   "toc_cell": false,
   "toc_position": {},
   "toc_section_display": true,
   "toc_window_display": false
  },
  "varInspector": {
   "cols": {
    "lenName": 16,
    "lenType": 16,
    "lenVar": 40
   },
   "kernels_config": {
    "python": {
     "delete_cmd_postfix": "",
     "delete_cmd_prefix": "del ",
     "library": "var_list.py",
     "varRefreshCmd": "print(var_dic_list())"
    },
    "r": {
     "delete_cmd_postfix": ") ",
     "delete_cmd_prefix": "rm(",
     "library": "var_list.r",
     "varRefreshCmd": "cat(var_dic_list()) "
    }
   },
   "types_to_exclude": [
    "module",
    "function",
    "builtin_function_or_method",
    "instance",
    "_Feature"
   ],
   "window_display": false
  }
 },
 "nbformat": 4,
 "nbformat_minor": 4
}
