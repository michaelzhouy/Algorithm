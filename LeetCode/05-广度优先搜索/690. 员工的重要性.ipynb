{
 "cells": [
  {
   "cell_type": "markdown",
   "metadata": {},
   "source": [
    "### 解题思路\n",
    "广度优先搜索\n",
    "\n",
    "### 代码\n",
    "\n",
    "```python3\n",
    "\"\"\"\n",
    "# Definition for Employee.\n",
    "class Employee:\n",
    "    def __init__(self, id: int, importance: int, subordinates: List[int]):\n",
    "        self.id = id\n",
    "        self.importance = importance\n",
    "        self.subordinates = subordinates\n",
    "\"\"\"\n",
    "\n",
    "class Solution:\n",
    "    def getImportance(self, employees: List['Employee'], id: int) -> int:\n",
    "        hashmap = {e.id: e for e in employees}\n",
    "        queue=[id]\n",
    "        res = 0\n",
    "        while queue:\n",
    "            # 弹出第一个id\n",
    "            cur = queue.pop(0)\n",
    "            e = hashmap[cur]\n",
    "            res += e.importance\n",
    "            # 遍历该id的直系下属，该所有下属id依次添加到queue中\n",
    "            for i in e.subordinates:\n",
    "                queue.append(i)\n",
    "        return res\n",
    "```"
   ]
  }
 ],
 "metadata": {
  "kernelspec": {
   "display_name": "Python 3",
   "language": "python",
   "name": "python3"
  },
  "language_info": {
   "codemirror_mode": {
    "name": "ipython",
    "version": 3
   },
   "file_extension": ".py",
   "mimetype": "text/x-python",
   "name": "python",
   "nbconvert_exporter": "python",
   "pygments_lexer": "ipython3",
   "version": "3.7.3"
  },
  "toc": {
   "base_numbering": 1,
   "nav_menu": {},
   "number_sections": true,
   "sideBar": true,
   "skip_h1_title": false,
   "title_cell": "Table of Contents",
   "title_sidebar": "Contents",
   "toc_cell": false,
   "toc_position": {},
   "toc_section_display": true,
   "toc_window_display": false
  },
  "varInspector": {
   "cols": {
    "lenName": 16,
    "lenType": 16,
    "lenVar": 40
   },
   "kernels_config": {
    "python": {
     "delete_cmd_postfix": "",
     "delete_cmd_prefix": "del ",
     "library": "var_list.py",
     "varRefreshCmd": "print(var_dic_list())"
    },
    "r": {
     "delete_cmd_postfix": ") ",
     "delete_cmd_prefix": "rm(",
     "library": "var_list.r",
     "varRefreshCmd": "cat(var_dic_list()) "
    }
   },
   "types_to_exclude": [
    "module",
    "function",
    "builtin_function_or_method",
    "instance",
    "_Feature"
   ],
   "window_display": false
  }
 },
 "nbformat": 4,
 "nbformat_minor": 2
}
