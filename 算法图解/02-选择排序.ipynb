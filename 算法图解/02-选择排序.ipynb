{
 "cells": [
  {
   "cell_type": "markdown",
   "metadata": {},
   "source": [
    "## 数组与链表：\n",
    "\n",
    "### 数组：\n",
    "- 数组中的元素在内存中是相连的（仅靠在一起）\n",
    "- 向数组中添加新的元素时，如果后面的内存被占用了，就得向计算机请求重新分配一块新的内存，再将数组移动到新的内存位置\n",
    "- 可以通过“预留位置”的方法来解决上述问题，但是也有以下两个缺点\n",
    "    - 额外请求的位置可能根本用不上的，导致内存浪费\n",
    "    - 当添加元素超过预留位置的总数时，还得转移\n",
    "\n",
    "### 链表：\n",
    "- 链表中的元素可存储在内存的任何位置\n",
    "- 链表中的每个元素都存储了下一个元素的地址，从而使一系列随机的内存地址串在一起\n",
    "- 向链表中添加元素，只需将其放入内存，并将其地址存储到前一个元素中\n",
    "- 要读取链表的最后一个元素时，不能直接读取，需要先访问元素#1，从中获取元素#2的地址，再访问元素#2，并从中获取元素#3的地址，以此类推，直到访问最后一个元素。\n",
    "\n",
    "\n",
    "链表擅长插入和删除，而数组擅长随机访问"
   ]
  },
  {
   "cell_type": "code",
   "execution_count": 1,
   "metadata": {
    "ExecuteTime": {
     "end_time": "2020-05-12T12:39:48.740302Z",
     "start_time": "2020-05-12T12:39:48.730292Z"
    }
   },
   "outputs": [
    {
     "name": "stdout",
     "output_type": "stream",
     "text": [
      "[2, 3, 5, 6, 10]\n"
     ]
    }
   ],
   "source": [
    "def findSmallest(arr):\n",
    "    smallest = arr[0]\n",
    "    smallest_index = 0\n",
    "    for i in range(1, len(arr)):\n",
    "        if arr[i] < smallest:\n",
    "            smallest = arr[i]\n",
    "            smallest_index = i\n",
    "    return smallest_index\n",
    "\n",
    "def selectionSort(arr):\n",
    "    newArr = []\n",
    "    for i in range(len(arr)):\n",
    "        # 调用findSmallest函数，找到最小值的索引\n",
    "        smallest_index = findSmallest(arr)\n",
    "        # arr中删除最小值的索引所在的元素，并将该元素添加到newArr中\n",
    "        newArr.append(arr.pop(smallest_index))\n",
    "    return newArr\n",
    "\n",
    "print(selectionSort([5, 3, 6, 2, 10]))"
   ]
  }
 ],
 "metadata": {
  "kernelspec": {
   "display_name": "Python 3",
   "language": "python",
   "name": "python3"
  },
  "language_info": {
   "codemirror_mode": {
    "name": "ipython",
    "version": 3
   },
   "file_extension": ".py",
   "mimetype": "text/x-python",
   "name": "python",
   "nbconvert_exporter": "python",
   "pygments_lexer": "ipython3",
   "version": "3.7.3"
  },
  "toc": {
   "base_numbering": 1,
   "nav_menu": {},
   "number_sections": true,
   "sideBar": true,
   "skip_h1_title": false,
   "title_cell": "Table of Contents",
   "title_sidebar": "Contents",
   "toc_cell": false,
   "toc_position": {},
   "toc_section_display": true,
   "toc_window_display": false
  },
  "varInspector": {
   "cols": {
    "lenName": 16,
    "lenType": 16,
    "lenVar": 40
   },
   "kernels_config": {
    "python": {
     "delete_cmd_postfix": "",
     "delete_cmd_prefix": "del ",
     "library": "var_list.py",
     "varRefreshCmd": "print(var_dic_list())"
    },
    "r": {
     "delete_cmd_postfix": ") ",
     "delete_cmd_prefix": "rm(",
     "library": "var_list.r",
     "varRefreshCmd": "cat(var_dic_list()) "
    }
   },
   "types_to_exclude": [
    "module",
    "function",
    "builtin_function_or_method",
    "instance",
    "_Feature"
   ],
   "window_display": false
  }
 },
 "nbformat": 4,
 "nbformat_minor": 2
}
