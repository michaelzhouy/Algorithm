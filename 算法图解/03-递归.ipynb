{
 "cells": [
  {
   "cell_type": "markdown",
   "metadata": {},
   "source": [
    "## 栈\n",
    "\n",
    "- 插入的元素要放在清单的最前面；读取元素时，只能读取最上面的那个，并将其删除\n",
    "- 压入（插入）和弹出（删除并读取）"
   ]
  },
  {
   "cell_type": "code",
   "execution_count": 1,
   "metadata": {
    "ExecuteTime": {
     "end_time": "2020-05-12T12:39:38.024439Z",
     "start_time": "2020-05-12T12:39:38.017418Z"
    }
   },
   "outputs": [
    {
     "name": "stdout",
     "output_type": "stream",
     "text": [
      "Hello, Zhou Yang!\n",
      "How are you, Zhou Yang?\n",
      "Getting ready to say bye...\n",
      "OK, bye\n"
     ]
    }
   ],
   "source": [
    "def greet(name):\n",
    "    print('Hello, ' + name + '!')\n",
    "    greet2(name)\n",
    "    print('Getting ready to say bye...')\n",
    "    bye()\n",
    "    \n",
    "def greet2(name):\n",
    "    print('How are you, ' + name + '?')\n",
    "    \n",
    "def bye():\n",
    "    print('OK, bye')\n",
    "    \n",
    "greet('Zhou Yang')"
   ]
  },
  {
   "cell_type": "markdown",
   "metadata": {},
   "source": [
    "**函数说明：**\n",
    "1. 调用greet('Zhou Yang')时，计算机为该函数调用分配一块内存，变量name被设置为Zhou Yang。打印Hello, Zhou Yang!\n",
    "2. 调用greet2('Zhou Yang')，计算机也为这个函数调用分配一块内存。计算机使用一个栈来表示这些内存块，其中第二个内存块位于第一个内存块的上面。打印How are you, Zhou Yang?，然后从函数调用返回，此时，栈顶的内存块被弹出\n",
    "3. 现在，栈顶的内存块是函数greet的，返回到函数greet中（在调用函数greet2时，函数greet只执行了一部分，**调用另一个函数时，当前函数暂停并处于未完成的状态**）\n",
    "5. 打印Getting ready to say bye...\n",
    "6. 再调用函数bye，在栈顶添加函数bye的内存块，打印OK, bye!，并从这个函数返回\n",
    "7. 最后回到函数greet"
   ]
  },
  {
   "cell_type": "code",
   "execution_count": 2,
   "metadata": {
    "ExecuteTime": {
     "end_time": "2020-05-12T12:39:38.043855Z",
     "start_time": "2020-05-12T12:39:38.025396Z"
    }
   },
   "outputs": [
    {
     "data": {
      "text/plain": [
       "6"
      ]
     },
     "execution_count": 2,
     "metadata": {},
     "output_type": "execute_result"
    }
   ],
   "source": [
    "def fact(x):\n",
    "    if x == 1:\n",
    "        return 1\n",
    "    else:\n",
    "        return x * fact(x - 1)\n",
    "\n",
    "fact(3)"
   ]
  }
 ],
 "metadata": {
  "kernelspec": {
   "display_name": "Python 3",
   "language": "python",
   "name": "python3"
  },
  "language_info": {
   "codemirror_mode": {
    "name": "ipython",
    "version": 3
   },
   "file_extension": ".py",
   "mimetype": "text/x-python",
   "name": "python",
   "nbconvert_exporter": "python",
   "pygments_lexer": "ipython3",
   "version": "3.7.3"
  },
  "toc": {
   "base_numbering": 1,
   "nav_menu": {},
   "number_sections": true,
   "sideBar": true,
   "skip_h1_title": false,
   "title_cell": "Table of Contents",
   "title_sidebar": "Contents",
   "toc_cell": false,
   "toc_position": {},
   "toc_section_display": true,
   "toc_window_display": false
  },
  "varInspector": {
   "cols": {
    "lenName": 16,
    "lenType": 16,
    "lenVar": 40
   },
   "kernels_config": {
    "python": {
     "delete_cmd_postfix": "",
     "delete_cmd_prefix": "del ",
     "library": "var_list.py",
     "varRefreshCmd": "print(var_dic_list())"
    },
    "r": {
     "delete_cmd_postfix": ") ",
     "delete_cmd_prefix": "rm(",
     "library": "var_list.r",
     "varRefreshCmd": "cat(var_dic_list()) "
    }
   },
   "types_to_exclude": [
    "module",
    "function",
    "builtin_function_or_method",
    "instance",
    "_Feature"
   ],
   "window_display": false
  }
 },
 "nbformat": 4,
 "nbformat_minor": 4
}
